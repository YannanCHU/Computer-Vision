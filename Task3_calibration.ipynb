{
 "cells": [
  {
   "cell_type": "code",
   "execution_count": 1,
   "metadata": {},
   "outputs": [],
   "source": [
    "import numpy as np\n",
    "import cv2 as cv\n",
    "import glob\n",
    "import matplotlib.pyplot as plt"
   ]
  },
  {
   "cell_type": "code",
   "execution_count": 2,
   "metadata": {},
   "outputs": [],
   "source": [
    "num_of_rows = 8\n",
    "num_of_cols = 6\n",
    "\n",
    "# termination criteria\n",
    "criteria = (cv.TERM_CRITERIA_EPS + cv.TERM_CRITERIA_MAX_ITER, 30, 0.001)\n",
    "# prepare object points, like (0,0,0), (1,0,0), (2,0,0) ....,(6,5,0)\n",
    "objp = np.zeros((num_of_rows*num_of_cols,3), np.float32)\n",
    "objp[:,:2] = np.mgrid[0:num_of_rows, 0:num_of_cols].T.reshape(-1,2)\n",
    "objp[:, [0,1]] = objp[:, [1,0]]\n",
    "# the square length is 30 mm\n",
    "squareSize = 30\n",
    "objp = squareSize * objp\n"
   ]
  },
  {
   "cell_type": "code",
   "execution_count": 8,
   "metadata": {},
   "outputs": [
    {
     "name": "stdout",
     "output_type": "stream",
     "text": [
      "Found\n",
      "Found\n"
     ]
    }
   ],
   "source": [
    "# Arrays to store object points and image points from all the images.\n",
    "objpoints = [] # 3d point in real world space\n",
    "imgpoints = [] # 2d points in image plane.\n",
    "images = glob.glob('./images1/FD2/*.jpg')\n",
    "# images = glob.glob('*.jpg')\n",
    "\n",
    "for fname in images:\n",
    "    img = cv.imread(fname)\n",
    "    gray = cv.cvtColor(img, cv.COLOR_BGR2GRAY)\n",
    "    # Find the chess board corners\n",
    "    ret, corners = cv.findChessboardCorners(gray, (num_of_rows, num_of_cols), None)\n",
    "    # If found, add object points, image points (after refining them)\n",
    "    if ret == True:\n",
    "        print(\"Found\");\n",
    "        objpoints.append(objp)\n",
    "        corners2 = cv.cornerSubPix(gray,corners, (11,11), (-1,-1), criteria)\n",
    "        imgpoints.append(corners)\n",
    "        # Draw and display the corners\n",
    "        cv.drawChessboardCorners(img, (num_of_rows, num_of_cols), corners2, ret)\n",
    "        # plt.figure(figsize=(10,10))\n",
    "        # plt.imshow(img)\n",
    "        cv.namedWindow(\"img\",0);\n",
    "        cv.resizeWindow(\"img\", 640, 480);\n",
    "        cv.imshow('img', img)\n",
    "        cv.waitKey(5000)\n",
    "        cv.destroyAllWindows()\n",
    "    else:\n",
    "        print(\"Failed\")\n"
   ]
  },
  {
   "cell_type": "code",
   "execution_count": 4,
   "metadata": {},
   "outputs": [
    {
     "name": "stdout",
     "output_type": "stream",
     "text": [
      "Camera matrix : \n",
      "\n",
      "[[3.40707057e+03 0.00000000e+00 1.57502749e+03]\n",
      " [0.00000000e+00 3.40761563e+03 2.02182558e+03]\n",
      " [0.00000000e+00 0.00000000e+00 1.00000000e+00]]\n",
      "\n",
      "\n",
      "dist : \n",
      "\n",
      "[[ 3.06816898e-01 -1.22909298e+00  4.28602242e-03  8.69834486e-05\n",
      "  -7.92360900e-01]]\n"
     ]
    }
   ],
   "source": [
    "ret, mtx, dist, rvecs, tvecs = cv.calibrateCamera(objpoints, imgpoints, gray.shape[::-1], None, None)\n",
    "print(\"Camera matrix : \\n\")\n",
    "print(mtx)\n",
    "print(\"\\n\\ndist : \\n\")\n",
    "print(dist)\n"
   ]
  },
  {
   "cell_type": "code",
   "execution_count": 9,
   "metadata": {},
   "outputs": [
    {
     "name": "stdout",
     "output_type": "stream",
     "text": [
      "rvecs : \n",
      "\n",
      "(array([[0.0038672 ],\n",
      "       [3.11409   ],\n",
      "       [0.18074742]]), array([[0.03515469],\n",
      "       [2.8448833 ],\n",
      "       [0.15917019]]))\n",
      "\n",
      "\n",
      "tvecs : \n",
      "\n",
      "(array([[  72.62951434],\n",
      "       [-102.50730894],\n",
      "       [ 320.29684412]]), array([[  72.41530298],\n",
      "       [-103.83732986],\n",
      "       [ 349.33633403]]))\n"
     ]
    }
   ],
   "source": [
    "print(\"rvecs : \\n\")\n",
    "print(rvecs)\n",
    "print(\"\\n\\ntvecs : \\n\")\n",
    "print(tvecs)"
   ]
  }
 ],
 "metadata": {
  "interpreter": {
   "hash": "82043e9c6bb60dc85d822aa1bc58ee389a3953da33585b1a533ca4c796d4eb5e"
  },
  "kernelspec": {
   "display_name": "Python 3.9.6 64-bit",
   "language": "python",
   "name": "python3"
  },
  "language_info": {
   "codemirror_mode": {
    "name": "ipython",
    "version": 3
   },
   "file_extension": ".py",
   "mimetype": "text/x-python",
   "name": "python",
   "nbconvert_exporter": "python",
   "pygments_lexer": "ipython3",
   "version": "3.9.6"
  },
  "orig_nbformat": 4
 },
 "nbformat": 4,
 "nbformat_minor": 2
}
